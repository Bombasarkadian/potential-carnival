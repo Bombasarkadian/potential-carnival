{
 "cells": [
  {
   "cell_type": "code",
   "execution_count": 16,
   "metadata": {
    "collapsed": true,
    "pycharm": {
     "is_executing": false
    }
   },
   "outputs": [],
   "source": [
    "import json\n",
    "import urllib.parse\n",
    "import pandas as pd\n",
    "\n",
    "import requests\n",
    "from bs4 import BeautifulSoup"
   ]
  },
  {
   "cell_type": "code",
   "execution_count": 17,
   "outputs": [],
   "source": [
    "destinations = {\n",
    "    'LWO',\n",
    "    'GVA',\n",
    "    'LAX',\n",
    "    'ZAD',\n",
    "    'SOF',\n",
    "    'PEK',\n",
    "    'DEL',\n",
    "    'ARN',\n",
    "    'MAD',\n",
    "    'KUL',\n",
    "}\n",
    "dst = pd.DataFrame([{'airport_code': value} for value in destinations])\n"
   ],
   "metadata": {
    "collapsed": false,
    "pycharm": {
     "name": "#%%\n",
     "is_executing": false
    }
   }
  },
  {
   "cell_type": "code",
   "execution_count": 18,
   "outputs": [],
   "source": [
    "# Add airport info\n",
    "\n",
    "column_mapping = {\n",
    "    'city':2,\n",
    "    'country':3,\n",
    "    'airport_code':4,\n",
    "    'lat':6, \n",
    "    'lng':7,\n",
    "}\n",
    "revers_mapping = {v:k for k, v in column_mapping.items()}\n",
    "\n",
    "airports = pd.read_csv('./content/airports.dat', header=None)\n",
    "airports = airports.rename(columns=revers_mapping)\n",
    "airports = airports[list(column_mapping.keys())]\n",
    "       \n",
    "        "
   ],
   "metadata": {
    "collapsed": false,
    "pycharm": {
     "name": "#%%\n",
     "is_executing": false
    }
   }
  },
  {
   "cell_type": "code",
   "execution_count": 19,
   "outputs": [],
   "source": [
    "dest = dst.set_index('airport_code').join(airports.set_index('airport_code'), on='airport_code', )\n",
    "dest.to_csv('out.csv')"
   ],
   "metadata": {
    "collapsed": false,
    "pycharm": {
     "name": "#%%\n",
     "is_executing": false
    }
   }
  },
  {
   "cell_type": "code",
   "execution_count": 21,
   "outputs": [],
   "source": [
    "# scraper\n",
    "def get_weather(code, city, country):\n",
    "    url = \"https://weather-averages.co.uk/parse_search_input\"\n",
    "    mapping = {\n",
    "        'LAX': 'Los Angeles, CA, USA',\n",
    "        'ZAD': 'Split, Croatia',\n",
    "        'LWO': 'Kyiv, UKraine'\n",
    "    }    \n",
    "    search = f'{city}, {country}'\n",
    "    if code in mapping:\n",
    "        search = mapping[code]\n",
    "   \n",
    "    payload = urllib.parse.urlencode({'city_search': f'{search}'})\n",
    "    headers = {\n",
    "        'Connection': \"keep-alive\",\n",
    "        'Pragma': \"no-cache\",\n",
    "        'Cache-Control': \"no-cache\",\n",
    "        'Origin': \"https://weather-averages.co.uk\",\n",
    "        'Upgrade-Insecure-Requests': \"1\",\n",
    "        'Content-Type': \"application/x-www-form-urlencoded\",\n",
    "        'User-Agent': \"Mozilla/5.0 (Macintosh; Intel Mac OS X 10_14_6) AppleWebKit/537.36 (KHTML, like Gecko) Chrome/76.0.3809.132 Safari/537.36\",\n",
    "        'Sec-Fetch-Mode': \"navigate\",\n",
    "        'Sec-Fetch-User': \"?1\",\n",
    "        'Accept': \"text/html,application/xhtml+xml,application/xml;q=0.9,image/webp,image/apng,*/*;q=0.8,application/signed-exchange;v=b3\",\n",
    "        'Sec-Fetch-Site': \"same-origin\",\n",
    "        'Referer': \"https://weather-averages.co.uk/compare-climate/warsaw%2C-poland/warsaw%2C-poland\",\n",
    "        'Accept-Encoding': \"gzip, deflate, br\",\n",
    "        'Accept-Language': \"pl-PL,pl;q=0.9,en-US;q=0.8,en;q=0.7\",\n",
    "        'Cookie': \"_ga=GA1.3.1670207595.1568462657; _gid=GA1.3.1235958444.1568462657; _gat=1\",\n",
    "        'cache-control': \"no-cache\",\n",
    "        }\n",
    "\n",
    "    response = requests.request(\"POST\", url, data=payload, headers=headers)\n",
    "    \n",
    "    return response.text"
   ],
   "metadata": {
    "collapsed": false,
    "pycharm": {
     "name": "#%%\n",
     "is_executing": false
    }
   }
  },
  {
   "cell_type": "code",
   "execution_count": 22,
   "outputs": [
    {
     "name": "stdout",
     "text": [
      "scraping: Madrid, Spain\n",
      "found Madrid, Spain\nscraping: Zadar, Croatia\n",
      "found Split, Croatia\nscraping: Geneva, Switzerland\n",
      "found Geneva, Switzerland\nscraping: Stockholm, Sweden\n",
      "found Stockholm, Sweden\nscraping: Sofia, Bulgaria\n",
      "found Sofia, Bulgaria\nscraping: Beijing, China\n",
      "found Beijing, China\nscraping: Kuala Lumpur, Malaysia\n",
      "found Kuala Lumpur, Malaysia\nscraping: Lvov, Ukraine\n",
      "found Kyiv, UKraine\nscraping: Delhi, India\n",
      "found New Delhi, India\nscraping: Los Angeles, United States\n",
      "found Los Angeles, CA, USA\n"
     ],
     "output_type": "stream"
    }
   ],
   "source": [
    "temps = {}\n",
    "\n",
    "def get_valid_weather(code, city, country):\n",
    "    print(f'scraping: {city}, {country}')\n",
    "    html = get_weather(code, city, country)\n",
    "    \n",
    "    soup = BeautifulSoup(html)\n",
    "    \n",
    "    t_body = soup.select_one('tbody')\n",
    "    print(f\"found {soup.select_one('tbody').select_one('th').text}\")\n",
    "\n",
    "    return html, t_body\n",
    "\n",
    "# scrape weather\n",
    "for row in dest.iterrows():\n",
    "    code, row = row\n",
    "    city, country = row['city'], row['country']\n",
    "    \n",
    "    html, t_body = get_valid_weather(code, city, country)\n",
    "    with open(f'./content_enriched/weather/searches/{code}.json', 'w') as f:\n",
    "        f.write(json.dumps(html))\n",
    "    \n",
    "    airport_temps = [\n",
    "        float(value.text.replace('°C', '').strip()) for value in t_body.findAll('td')\n",
    "    ]\n",
    "    temps[code] = airport_temps"
   ],
   "metadata": {
    "collapsed": false,
    "pycharm": {
     "name": "#%%\n",
     "is_executing": false
    }
   }
  },
  {
   "cell_type": "code",
   "execution_count": 30,
   "outputs": [],
   "source": [
    "pd_temps = pd.DataFrame(temps).transpose().rename(columns={i: f'temp_month_{i}' for i in range(12)})\n",
    "dest.join(pd_temps).to_csv('out.csv')"
   ],
   "metadata": {
    "collapsed": false,
    "pycharm": {
     "name": "#%%\n",
     "is_executing": false
    }
   }
  }
 ],
 "metadata": {
  "language_info": {
   "codemirror_mode": {
    "name": "ipython",
    "version": 2
   },
   "file_extension": ".py",
   "mimetype": "text/x-python",
   "name": "python",
   "nbconvert_exporter": "python",
   "pygments_lexer": "ipython2",
   "version": "2.7.6"
  },
  "pycharm": {
   "stem_cell": {
    "cell_type": "raw",
    "source": [],
    "metadata": {
     "collapsed": false
    }
   }
  },
  "kernelspec": {
   "name": "python3",
   "language": "python",
   "display_name": "Python 3"
  }
 },
 "nbformat": 4,
 "nbformat_minor": 0
}